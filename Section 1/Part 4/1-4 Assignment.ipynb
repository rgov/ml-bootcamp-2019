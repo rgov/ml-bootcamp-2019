{
 "cells": [
  {
   "cell_type": "markdown",
   "metadata": {},
   "source": [
    "# Assignment:\n",
    "1. Separate Training Data into Test and Train Sets. Plot performance vs. Number of points on train and test sets for a regression method of your choice.\n",
    "\n",
    "# Stretch Goals:\n",
    "- Design a cross-validation procedure to split the training data into n groups, and train on all of the groups except one, and then test the performance on the remaining subset.\n",
    "- Compute confidences on the measured test performance."
   ]
  },
  {
   "cell_type": "code",
   "execution_count": 64,
   "metadata": {},
   "outputs": [
    {
     "name": "stderr",
     "output_type": "stream",
     "text": [
      "/Users/rzg/Projects/WHOI/ml-bootcamp-2019/.direnv/python-3.7.4/lib/python3.7/site-packages/IPython/core/interactiveshell.py:3326: RankWarning: Polyfit may be poorly conditioned\n",
      "  exec(code_obj, self.user_global_ns, self.user_ns)\n",
      "/Users/rzg/Projects/WHOI/ml-bootcamp-2019/.direnv/python-3.7.4/lib/python3.7/site-packages/IPython/core/interactiveshell.py:3326: RankWarning: Polyfit may be poorly conditioned\n",
      "  exec(code_obj, self.user_global_ns, self.user_ns)\n",
      "/Users/rzg/Projects/WHOI/ml-bootcamp-2019/.direnv/python-3.7.4/lib/python3.7/site-packages/IPython/core/interactiveshell.py:3326: RankWarning: Polyfit may be poorly conditioned\n",
      "  exec(code_obj, self.user_global_ns, self.user_ns)\n",
      "/Users/rzg/Projects/WHOI/ml-bootcamp-2019/.direnv/python-3.7.4/lib/python3.7/site-packages/IPython/core/interactiveshell.py:3326: RankWarning: Polyfit may be poorly conditioned\n",
      "  exec(code_obj, self.user_global_ns, self.user_ns)\n",
      "/Users/rzg/Projects/WHOI/ml-bootcamp-2019/.direnv/python-3.7.4/lib/python3.7/site-packages/IPython/core/interactiveshell.py:3326: RankWarning: Polyfit may be poorly conditioned\n",
      "  exec(code_obj, self.user_global_ns, self.user_ns)\n",
      "/Users/rzg/Projects/WHOI/ml-bootcamp-2019/.direnv/python-3.7.4/lib/python3.7/site-packages/IPython/core/interactiveshell.py:3326: RankWarning: Polyfit may be poorly conditioned\n",
      "  exec(code_obj, self.user_global_ns, self.user_ns)\n",
      "/Users/rzg/Projects/WHOI/ml-bootcamp-2019/.direnv/python-3.7.4/lib/python3.7/site-packages/IPython/core/interactiveshell.py:3326: RankWarning: Polyfit may be poorly conditioned\n",
      "  exec(code_obj, self.user_global_ns, self.user_ns)\n",
      "/Users/rzg/Projects/WHOI/ml-bootcamp-2019/.direnv/python-3.7.4/lib/python3.7/site-packages/IPython/core/interactiveshell.py:3326: RankWarning: Polyfit may be poorly conditioned\n",
      "  exec(code_obj, self.user_global_ns, self.user_ns)\n",
      "/Users/rzg/Projects/WHOI/ml-bootcamp-2019/.direnv/python-3.7.4/lib/python3.7/site-packages/IPython/core/interactiveshell.py:3326: RankWarning: Polyfit may be poorly conditioned\n",
      "  exec(code_obj, self.user_global_ns, self.user_ns)\n",
      "/Users/rzg/Projects/WHOI/ml-bootcamp-2019/.direnv/python-3.7.4/lib/python3.7/site-packages/IPython/core/interactiveshell.py:3326: RankWarning: Polyfit may be poorly conditioned\n",
      "  exec(code_obj, self.user_global_ns, self.user_ns)\n",
      "/Users/rzg/Projects/WHOI/ml-bootcamp-2019/.direnv/python-3.7.4/lib/python3.7/site-packages/IPython/core/interactiveshell.py:3326: RankWarning: Polyfit may be poorly conditioned\n",
      "  exec(code_obj, self.user_global_ns, self.user_ns)\n",
      "/Users/rzg/Projects/WHOI/ml-bootcamp-2019/.direnv/python-3.7.4/lib/python3.7/site-packages/IPython/core/interactiveshell.py:3326: RankWarning: Polyfit may be poorly conditioned\n",
      "  exec(code_obj, self.user_global_ns, self.user_ns)\n",
      "/Users/rzg/Projects/WHOI/ml-bootcamp-2019/.direnv/python-3.7.4/lib/python3.7/site-packages/IPython/core/interactiveshell.py:3326: RankWarning: Polyfit may be poorly conditioned\n",
      "  exec(code_obj, self.user_global_ns, self.user_ns)\n",
      "/Users/rzg/Projects/WHOI/ml-bootcamp-2019/.direnv/python-3.7.4/lib/python3.7/site-packages/IPython/core/interactiveshell.py:3326: RankWarning: Polyfit may be poorly conditioned\n",
      "  exec(code_obj, self.user_global_ns, self.user_ns)\n",
      "/Users/rzg/Projects/WHOI/ml-bootcamp-2019/.direnv/python-3.7.4/lib/python3.7/site-packages/IPython/core/interactiveshell.py:3326: RankWarning: Polyfit may be poorly conditioned\n",
      "  exec(code_obj, self.user_global_ns, self.user_ns)\n",
      "/Users/rzg/Projects/WHOI/ml-bootcamp-2019/.direnv/python-3.7.4/lib/python3.7/site-packages/IPython/core/interactiveshell.py:3326: RankWarning: Polyfit may be poorly conditioned\n",
      "  exec(code_obj, self.user_global_ns, self.user_ns)\n",
      "/Users/rzg/Projects/WHOI/ml-bootcamp-2019/.direnv/python-3.7.4/lib/python3.7/site-packages/IPython/core/interactiveshell.py:3326: RankWarning: Polyfit may be poorly conditioned\n",
      "  exec(code_obj, self.user_global_ns, self.user_ns)\n",
      "/Users/rzg/Projects/WHOI/ml-bootcamp-2019/.direnv/python-3.7.4/lib/python3.7/site-packages/IPython/core/interactiveshell.py:3326: RankWarning: Polyfit may be poorly conditioned\n",
      "  exec(code_obj, self.user_global_ns, self.user_ns)\n",
      "/Users/rzg/Projects/WHOI/ml-bootcamp-2019/.direnv/python-3.7.4/lib/python3.7/site-packages/IPython/core/interactiveshell.py:3326: RankWarning: Polyfit may be poorly conditioned\n",
      "  exec(code_obj, self.user_global_ns, self.user_ns)\n"
     ]
    }
   ],
   "source": [
    "import numpy as np\n",
    "from sklearn.metrics import mean_squared_error\n",
    "from sklearn.model_selection import train_test_split\n",
    "\n",
    "input_data = np.arange(40)\n",
    "output_data = input_data*1.2 + .3 + np.random.normal(0, 7, len(input_data))\n",
    "\n",
    "error_test = []\n",
    "error_train = []\n",
    "\n",
    "for i in range(5, 100, 5):\n",
    "    X_train, X_test, y_train, y_test = train_test_split(input_data, output_data, train_size=i/100)\n",
    "    model = np.poly1d(np.polyfit(X_train, y_train, 50))\n",
    "    predictions = model(X_test)\n",
    "    error_test.append(mean_squared_error(y_test, predictions))\n",
    "    predictions = model(X_train)\n",
    "    error_train.append(mean_squared_error(y_train, predictions))\n"
   ]
  },
  {
   "cell_type": "code",
   "execution_count": 65,
   "metadata": {},
   "outputs": [
    {
     "data": {
      "image/png": "[encoded data removed]",
      "text/plain": [
       "<Figure size 432x288 with 1 Axes>"
      ]
     },
     "metadata": {
      "needs_background": "light"
     },
     "output_type": "display_data"
    }
   ],
   "source": [
    "from matplotlib import pyplot as plt\n",
    "%matplotlib inline\n",
    "\n",
    "plt.plot(np.arange(5, 100, 5) / 100, error_test)  # blue \n",
    "plt.plot(np.arange(5, 100, 5) / 100, error_train)  # orange\n",
    "plt.title(\"Train fraction vs. Errors\")\n",
    "plt.show()"
   ]
  },
  {
   "cell_type": "code",
   "execution_count": null,
   "metadata": {},
   "outputs": [],
   "source": []
  },
  {
   "cell_type": "code",
   "execution_count": null,
   "metadata": {},
   "outputs": [],
   "source": []
  },
  {
   "cell_type": "code",
   "execution_count": null,
   "metadata": {},
   "outputs": [],
   "source": []
  },
  {
   "cell_type": "code",
   "execution_count": null,
   "metadata": {},
   "outputs": [],
   "source": []
  }
 ],
 "metadata": {
  "kernelspec": {
   "display_name": "Python 3",
   "language": "python",
   "name": "python3"
  },
  "language_info": {
   "codemirror_mode": {
    "name": "ipython",
    "version": 3
   },
   "file_extension": ".py",
   "mimetype": "text/x-python",
   "name": "python",
   "nbconvert_exporter": "python",
   "pygments_lexer": "ipython3",
   "version": "3.7.4"
  }
 },
 "nbformat": 4,
 "nbformat_minor": 2
}
