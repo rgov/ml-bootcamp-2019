{
 "cells": [
  {
   "cell_type": "markdown",
   "metadata": {},
   "source": [
    "# Assignment:\n",
    "1. Perform a fit on data using a linear model and a quadratic model.\n",
    "2. Measure the Euclidean distance (mean squared error) of each model on the dataset.\n",
    "3. Try to guess a function that explains the data better. Measure its performance.\n",
    "\n",
    "\n",
    "# Stretch Goals:\n",
    "- Try a different loss function (such as a different $L_p$ norm). Answer: Does the order of models change in terms of performance?\n",
    "- Try other regression methods from scikit-learn. Measure their performance. Which is the best?\n",
    "- Answer: What would you expect the $L_0$ and $L_\\infty$ norms to do?"
   ]
  },
  {
   "cell_type": "code",
   "execution_count": 104,
   "metadata": {},
   "outputs": [],
   "source": [
    "import numpy as np\n",
    "\n",
    "with open('../Part 1/test_data.csv') as f:\n",
    "    data = np.loadtxt(f, delimiter=',')\n",
    "\n",
    "# Sort data by X axis we will use... better way?\n",
    "data = data[np.argsort(data, axis=0)[:,0]]\n",
    "    \n",
    "input_data = data[:,0]  # first column\n",
    "output_data = data[:,2]  # third column"
   ]
  },
  {
   "cell_type": "code",
   "execution_count": 105,
   "metadata": {},
   "outputs": [],
   "source": [
    "from sklearn.linear_model import LinearRegression\n",
    "from sklearn.preprocessing import PolynomialFeatures\n",
    "from sklearn.pipeline import make_pipeline\n",
    "\n",
    "train_input = input_data.reshape(-1, 1)\n",
    "train_output = output_data.reshape(-1, 1)\n",
    "\n",
    "line_model = make_pipeline(LinearRegression())\n",
    "line_model.fit(train_input, train_output)\n",
    "line_preds = line_model.predict(train_input)\n",
    "\n",
    "quad_model = make_pipeline(PolynomialFeatures(2), LinearRegression())\n",
    "quad_model.fit(train_input, train_output)\n",
    "quad_preds = quad_model.predict(train_input)"
   ]
  },
  {
   "cell_type": "code",
   "execution_count": 106,
   "metadata": {},
   "outputs": [
    {
     "data": {
      "image/png": "[encoded data removed]",
      "text/plain": [
       "<Figure size 432x288 with 1 Axes>"
      ]
     },
     "metadata": {
      "needs_background": "light"
     },
     "output_type": "display_data"
    }
   ],
   "source": [
    "%matplotlib inline\n",
    "from matplotlib import pyplot as plt\n",
    "\n",
    "plt.scatter(input_data, output_data)\n",
    "plt.plot(train_input, line_preds)\n",
    "plt.plot(train_input, quad_preds)\n",
    "plt.show()"
   ]
  },
  {
   "cell_type": "code",
   "execution_count": 107,
   "metadata": {},
   "outputs": [],
   "source": [
    "L = lambda preds, p: np.sum((preds - train_output)**p)**(1/p)"
   ]
  },
  {
   "cell_type": "code",
   "execution_count": 108,
   "metadata": {},
   "outputs": [
    {
     "data": {
      "text/plain": [
       "(1.3753892131781016, 1.2214954314006052)"
      ]
     },
     "execution_count": 108,
     "metadata": {},
     "output_type": "execute_result"
    }
   ],
   "source": [
    "L(line_preds, 2), L(quad_preds, 2)"
   ]
  },
  {
   "cell_type": "code",
   "execution_count": null,
   "metadata": {},
   "outputs": [],
   "source": []
  }
 ],
 "metadata": {
  "kernelspec": {
   "display_name": "Python 3",
   "language": "python",
   "name": "python3"
  },
  "language_info": {
   "codemirror_mode": {
    "name": "ipython",
    "version": 3
   },
   "file_extension": ".py",
   "mimetype": "text/x-python",
   "name": "python",
   "nbconvert_exporter": "python",
   "pygments_lexer": "ipython3",
   "version": "3.7.4"
  }
 },
 "nbformat": 4,
 "nbformat_minor": 2
}
